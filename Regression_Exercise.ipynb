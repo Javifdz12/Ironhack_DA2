{
  "nbformat": 4,
  "nbformat_minor": 0,
  "metadata": {
    "colab": {
      "provenance": []
    },
    "kernelspec": {
      "name": "python3",
      "display_name": "Python 3"
    },
    "language_info": {
      "name": "python"
    }
  },
  "cells": [
    {
      "cell_type": "markdown",
      "source": [
        "# Exercise\n",
        "\n",
        " - Import possum.csv file\n",
        " - plot two graphics which describe your data, the most interessting you consider\n",
        " - Clean your data from missing, extrem or error data. if necessary\n",
        " - Transform your categorical variables into dummies\n",
        " - Divide your data into Training and Test\n",
        " - Scale/Standardize your continuous variables\n",
        " - Train your Linear Regression Model to predict the age of the animals\n",
        " - Validate your model using the test dataset, and justify your answer\n"
      ],
      "metadata": {
        "id": "yD-3xHgvRXLA"
      }
    },
    {
      "cell_type": "code",
      "source": [
        "from google.colab import drive\n",
        "drive.mount('/content/drive')"
      ],
      "metadata": {
        "colab": {
          "base_uri": "https://localhost:8080/"
        },
        "id": "jBG0o1FSY7ed",
        "outputId": "73c52966-33be-4084-9079-63d864cdd557"
      },
      "execution_count": 55,
      "outputs": [
        {
          "output_type": "stream",
          "name": "stdout",
          "text": [
            "Drive already mounted at /content/drive; to attempt to forcibly remount, call drive.mount(\"/content/drive\", force_remount=True).\n"
          ]
        }
      ]
    },
    {
      "cell_type": "code",
      "execution_count": 56,
      "metadata": {
        "id": "1nfkiK9HRTOC"
      },
      "outputs": [],
      "source": [
        "import pandas as pd\n",
        "import numpy as np\n",
        "import seaborn as sns\n",
        "sns.set(rc={\"figure.figsize\": (12.,5.)})\n",
        "\n",
        "from matplotlib import pyplot as plt\n",
        "#import matplotlib.pyplot as plt\n",
        "\n",
        "import statsmodels.formula.api as smf\n",
        "from sklearn.linear_model import LinearRegression\n",
        "from sklearn import metrics\n",
        "from sklearn.preprocessing import StandardScaler, MinMaxScaler"
      ]
    },
    {
      "cell_type": "code",
      "source": [
        "possum = pd.read_csv('/content/drive/MyDrive/Basic Data Analytics/Data/3.-Regresion/possum.csv', sep = ';')\n",
        "possum = pd.get_dummies(possum, columns=['Pop','sex'])\n",
        "possum"
      ],
      "metadata": {
        "colab": {
          "base_uri": "https://localhost:8080/",
          "height": 444
        },
        "id": "C3kSFdVYZt-6",
        "outputId": "71f29da4-a499-40b4-dc41-7031c65760d2"
      },
      "execution_count": 57,
      "outputs": [
        {
          "output_type": "execute_result",
          "data": {
            "text/plain": [
              "     case  site  age  hdlngth  skullw  totlngth  taill  footlgth  earconch  \\\n",
              "0       1     1  8.0     94.1    60.4      89.0   36.0      74.5      54.5   \n",
              "1       2     1  6.0     92.5    57.6      91.5   36.5      72.5      51.2   \n",
              "2       3     1  6.0     94.0    60.0      95.5   39.0      75.4      51.9   \n",
              "3       4     1  6.0     93.2    57.1      92.0   38.0      76.1      52.2   \n",
              "4       5     1  2.0     91.5    56.3      85.5   36.0      71.0      53.2   \n",
              "..    ...   ...  ...      ...     ...       ...    ...       ...       ...   \n",
              "99    100     7  1.0     89.5    56.0      81.5   36.5      66.0      46.8   \n",
              "100   101     7  1.0     88.6    54.7      82.5   39.0      64.4      48.0   \n",
              "101   102     7  6.0     92.4    55.0      89.0   38.0      63.5      45.4   \n",
              "102   103     7  4.0     91.5    55.2      82.5   36.5      62.9      45.9   \n",
              "103   104     7  3.0     93.6    59.9      89.0   40.0      67.6      46.0   \n",
              "\n",
              "      eye  chest  belly  Pop_Vic  Pop_other  sex_f  sex_m  \n",
              "0    15.2   28.0   36.0        1          0      0      1  \n",
              "1    16.0   28.5   33.0        1          0      1      0  \n",
              "2    15.5   30.0   34.0        1          0      1      0  \n",
              "3    15.2   28.0   34.0        1          0      1      0  \n",
              "4    15.1   28.5   33.0        1          0      1      0  \n",
              "..    ...    ...    ...      ...        ...    ...    ...  \n",
              "99   14.8   23.0   27.0        0          1      0      1  \n",
              "100  14.0   25.0   33.0        0          1      0      1  \n",
              "101  13.0   25.0   30.0        0          1      1      0  \n",
              "102  15.4   25.0   29.0        0          1      0      1  \n",
              "103  14.8   28.5   33.5        0          1      1      0  \n",
              "\n",
              "[104 rows x 16 columns]"
            ],
            "text/html": [
              "\n",
              "  <div id=\"df-e386361a-0592-401a-9b71-27b5b3dc6e96\" class=\"colab-df-container\">\n",
              "    <div>\n",
              "<style scoped>\n",
              "    .dataframe tbody tr th:only-of-type {\n",
              "        vertical-align: middle;\n",
              "    }\n",
              "\n",
              "    .dataframe tbody tr th {\n",
              "        vertical-align: top;\n",
              "    }\n",
              "\n",
              "    .dataframe thead th {\n",
              "        text-align: right;\n",
              "    }\n",
              "</style>\n",
              "<table border=\"1\" class=\"dataframe\">\n",
              "  <thead>\n",
              "    <tr style=\"text-align: right;\">\n",
              "      <th></th>\n",
              "      <th>case</th>\n",
              "      <th>site</th>\n",
              "      <th>age</th>\n",
              "      <th>hdlngth</th>\n",
              "      <th>skullw</th>\n",
              "      <th>totlngth</th>\n",
              "      <th>taill</th>\n",
              "      <th>footlgth</th>\n",
              "      <th>earconch</th>\n",
              "      <th>eye</th>\n",
              "      <th>chest</th>\n",
              "      <th>belly</th>\n",
              "      <th>Pop_Vic</th>\n",
              "      <th>Pop_other</th>\n",
              "      <th>sex_f</th>\n",
              "      <th>sex_m</th>\n",
              "    </tr>\n",
              "  </thead>\n",
              "  <tbody>\n",
              "    <tr>\n",
              "      <th>0</th>\n",
              "      <td>1</td>\n",
              "      <td>1</td>\n",
              "      <td>8.0</td>\n",
              "      <td>94.1</td>\n",
              "      <td>60.4</td>\n",
              "      <td>89.0</td>\n",
              "      <td>36.0</td>\n",
              "      <td>74.5</td>\n",
              "      <td>54.5</td>\n",
              "      <td>15.2</td>\n",
              "      <td>28.0</td>\n",
              "      <td>36.0</td>\n",
              "      <td>1</td>\n",
              "      <td>0</td>\n",
              "      <td>0</td>\n",
              "      <td>1</td>\n",
              "    </tr>\n",
              "    <tr>\n",
              "      <th>1</th>\n",
              "      <td>2</td>\n",
              "      <td>1</td>\n",
              "      <td>6.0</td>\n",
              "      <td>92.5</td>\n",
              "      <td>57.6</td>\n",
              "      <td>91.5</td>\n",
              "      <td>36.5</td>\n",
              "      <td>72.5</td>\n",
              "      <td>51.2</td>\n",
              "      <td>16.0</td>\n",
              "      <td>28.5</td>\n",
              "      <td>33.0</td>\n",
              "      <td>1</td>\n",
              "      <td>0</td>\n",
              "      <td>1</td>\n",
              "      <td>0</td>\n",
              "    </tr>\n",
              "    <tr>\n",
              "      <th>2</th>\n",
              "      <td>3</td>\n",
              "      <td>1</td>\n",
              "      <td>6.0</td>\n",
              "      <td>94.0</td>\n",
              "      <td>60.0</td>\n",
              "      <td>95.5</td>\n",
              "      <td>39.0</td>\n",
              "      <td>75.4</td>\n",
              "      <td>51.9</td>\n",
              "      <td>15.5</td>\n",
              "      <td>30.0</td>\n",
              "      <td>34.0</td>\n",
              "      <td>1</td>\n",
              "      <td>0</td>\n",
              "      <td>1</td>\n",
              "      <td>0</td>\n",
              "    </tr>\n",
              "    <tr>\n",
              "      <th>3</th>\n",
              "      <td>4</td>\n",
              "      <td>1</td>\n",
              "      <td>6.0</td>\n",
              "      <td>93.2</td>\n",
              "      <td>57.1</td>\n",
              "      <td>92.0</td>\n",
              "      <td>38.0</td>\n",
              "      <td>76.1</td>\n",
              "      <td>52.2</td>\n",
              "      <td>15.2</td>\n",
              "      <td>28.0</td>\n",
              "      <td>34.0</td>\n",
              "      <td>1</td>\n",
              "      <td>0</td>\n",
              "      <td>1</td>\n",
              "      <td>0</td>\n",
              "    </tr>\n",
              "    <tr>\n",
              "      <th>4</th>\n",
              "      <td>5</td>\n",
              "      <td>1</td>\n",
              "      <td>2.0</td>\n",
              "      <td>91.5</td>\n",
              "      <td>56.3</td>\n",
              "      <td>85.5</td>\n",
              "      <td>36.0</td>\n",
              "      <td>71.0</td>\n",
              "      <td>53.2</td>\n",
              "      <td>15.1</td>\n",
              "      <td>28.5</td>\n",
              "      <td>33.0</td>\n",
              "      <td>1</td>\n",
              "      <td>0</td>\n",
              "      <td>1</td>\n",
              "      <td>0</td>\n",
              "    </tr>\n",
              "    <tr>\n",
              "      <th>...</th>\n",
              "      <td>...</td>\n",
              "      <td>...</td>\n",
              "      <td>...</td>\n",
              "      <td>...</td>\n",
              "      <td>...</td>\n",
              "      <td>...</td>\n",
              "      <td>...</td>\n",
              "      <td>...</td>\n",
              "      <td>...</td>\n",
              "      <td>...</td>\n",
              "      <td>...</td>\n",
              "      <td>...</td>\n",
              "      <td>...</td>\n",
              "      <td>...</td>\n",
              "      <td>...</td>\n",
              "      <td>...</td>\n",
              "    </tr>\n",
              "    <tr>\n",
              "      <th>99</th>\n",
              "      <td>100</td>\n",
              "      <td>7</td>\n",
              "      <td>1.0</td>\n",
              "      <td>89.5</td>\n",
              "      <td>56.0</td>\n",
              "      <td>81.5</td>\n",
              "      <td>36.5</td>\n",
              "      <td>66.0</td>\n",
              "      <td>46.8</td>\n",
              "      <td>14.8</td>\n",
              "      <td>23.0</td>\n",
              "      <td>27.0</td>\n",
              "      <td>0</td>\n",
              "      <td>1</td>\n",
              "      <td>0</td>\n",
              "      <td>1</td>\n",
              "    </tr>\n",
              "    <tr>\n",
              "      <th>100</th>\n",
              "      <td>101</td>\n",
              "      <td>7</td>\n",
              "      <td>1.0</td>\n",
              "      <td>88.6</td>\n",
              "      <td>54.7</td>\n",
              "      <td>82.5</td>\n",
              "      <td>39.0</td>\n",
              "      <td>64.4</td>\n",
              "      <td>48.0</td>\n",
              "      <td>14.0</td>\n",
              "      <td>25.0</td>\n",
              "      <td>33.0</td>\n",
              "      <td>0</td>\n",
              "      <td>1</td>\n",
              "      <td>0</td>\n",
              "      <td>1</td>\n",
              "    </tr>\n",
              "    <tr>\n",
              "      <th>101</th>\n",
              "      <td>102</td>\n",
              "      <td>7</td>\n",
              "      <td>6.0</td>\n",
              "      <td>92.4</td>\n",
              "      <td>55.0</td>\n",
              "      <td>89.0</td>\n",
              "      <td>38.0</td>\n",
              "      <td>63.5</td>\n",
              "      <td>45.4</td>\n",
              "      <td>13.0</td>\n",
              "      <td>25.0</td>\n",
              "      <td>30.0</td>\n",
              "      <td>0</td>\n",
              "      <td>1</td>\n",
              "      <td>1</td>\n",
              "      <td>0</td>\n",
              "    </tr>\n",
              "    <tr>\n",
              "      <th>102</th>\n",
              "      <td>103</td>\n",
              "      <td>7</td>\n",
              "      <td>4.0</td>\n",
              "      <td>91.5</td>\n",
              "      <td>55.2</td>\n",
              "      <td>82.5</td>\n",
              "      <td>36.5</td>\n",
              "      <td>62.9</td>\n",
              "      <td>45.9</td>\n",
              "      <td>15.4</td>\n",
              "      <td>25.0</td>\n",
              "      <td>29.0</td>\n",
              "      <td>0</td>\n",
              "      <td>1</td>\n",
              "      <td>0</td>\n",
              "      <td>1</td>\n",
              "    </tr>\n",
              "    <tr>\n",
              "      <th>103</th>\n",
              "      <td>104</td>\n",
              "      <td>7</td>\n",
              "      <td>3.0</td>\n",
              "      <td>93.6</td>\n",
              "      <td>59.9</td>\n",
              "      <td>89.0</td>\n",
              "      <td>40.0</td>\n",
              "      <td>67.6</td>\n",
              "      <td>46.0</td>\n",
              "      <td>14.8</td>\n",
              "      <td>28.5</td>\n",
              "      <td>33.5</td>\n",
              "      <td>0</td>\n",
              "      <td>1</td>\n",
              "      <td>1</td>\n",
              "      <td>0</td>\n",
              "    </tr>\n",
              "  </tbody>\n",
              "</table>\n",
              "<p>104 rows × 16 columns</p>\n",
              "</div>\n",
              "    <div class=\"colab-df-buttons\">\n",
              "\n",
              "  <div class=\"colab-df-container\">\n",
              "    <button class=\"colab-df-convert\" onclick=\"convertToInteractive('df-e386361a-0592-401a-9b71-27b5b3dc6e96')\"\n",
              "            title=\"Convert this dataframe to an interactive table.\"\n",
              "            style=\"display:none;\">\n",
              "\n",
              "  <svg xmlns=\"http://www.w3.org/2000/svg\" height=\"24px\" viewBox=\"0 -960 960 960\">\n",
              "    <path d=\"M120-120v-720h720v720H120Zm60-500h600v-160H180v160Zm220 220h160v-160H400v160Zm0 220h160v-160H400v160ZM180-400h160v-160H180v160Zm440 0h160v-160H620v160ZM180-180h160v-160H180v160Zm440 0h160v-160H620v160Z\"/>\n",
              "  </svg>\n",
              "    </button>\n",
              "\n",
              "  <style>\n",
              "    .colab-df-container {\n",
              "      display:flex;\n",
              "      gap: 12px;\n",
              "    }\n",
              "\n",
              "    .colab-df-convert {\n",
              "      background-color: #E8F0FE;\n",
              "      border: none;\n",
              "      border-radius: 50%;\n",
              "      cursor: pointer;\n",
              "      display: none;\n",
              "      fill: #1967D2;\n",
              "      height: 32px;\n",
              "      padding: 0 0 0 0;\n",
              "      width: 32px;\n",
              "    }\n",
              "\n",
              "    .colab-df-convert:hover {\n",
              "      background-color: #E2EBFA;\n",
              "      box-shadow: 0px 1px 2px rgba(60, 64, 67, 0.3), 0px 1px 3px 1px rgba(60, 64, 67, 0.15);\n",
              "      fill: #174EA6;\n",
              "    }\n",
              "\n",
              "    .colab-df-buttons div {\n",
              "      margin-bottom: 4px;\n",
              "    }\n",
              "\n",
              "    [theme=dark] .colab-df-convert {\n",
              "      background-color: #3B4455;\n",
              "      fill: #D2E3FC;\n",
              "    }\n",
              "\n",
              "    [theme=dark] .colab-df-convert:hover {\n",
              "      background-color: #434B5C;\n",
              "      box-shadow: 0px 1px 3px 1px rgba(0, 0, 0, 0.15);\n",
              "      filter: drop-shadow(0px 1px 2px rgba(0, 0, 0, 0.3));\n",
              "      fill: #FFFFFF;\n",
              "    }\n",
              "  </style>\n",
              "\n",
              "    <script>\n",
              "      const buttonEl =\n",
              "        document.querySelector('#df-e386361a-0592-401a-9b71-27b5b3dc6e96 button.colab-df-convert');\n",
              "      buttonEl.style.display =\n",
              "        google.colab.kernel.accessAllowed ? 'block' : 'none';\n",
              "\n",
              "      async function convertToInteractive(key) {\n",
              "        const element = document.querySelector('#df-e386361a-0592-401a-9b71-27b5b3dc6e96');\n",
              "        const dataTable =\n",
              "          await google.colab.kernel.invokeFunction('convertToInteractive',\n",
              "                                                    [key], {});\n",
              "        if (!dataTable) return;\n",
              "\n",
              "        const docLinkHtml = 'Like what you see? Visit the ' +\n",
              "          '<a target=\"_blank\" href=https://colab.research.google.com/notebooks/data_table.ipynb>data table notebook</a>'\n",
              "          + ' to learn more about interactive tables.';\n",
              "        element.innerHTML = '';\n",
              "        dataTable['output_type'] = 'display_data';\n",
              "        await google.colab.output.renderOutput(dataTable, element);\n",
              "        const docLink = document.createElement('div');\n",
              "        docLink.innerHTML = docLinkHtml;\n",
              "        element.appendChild(docLink);\n",
              "      }\n",
              "    </script>\n",
              "  </div>\n",
              "\n",
              "\n",
              "<div id=\"df-9348c4d5-e8fe-4555-9fff-004f9bac2fdf\">\n",
              "  <button class=\"colab-df-quickchart\" onclick=\"quickchart('df-9348c4d5-e8fe-4555-9fff-004f9bac2fdf')\"\n",
              "            title=\"Suggest charts\"\n",
              "            style=\"display:none;\">\n",
              "\n",
              "<svg xmlns=\"http://www.w3.org/2000/svg\" height=\"24px\"viewBox=\"0 0 24 24\"\n",
              "     width=\"24px\">\n",
              "    <g>\n",
              "        <path d=\"M19 3H5c-1.1 0-2 .9-2 2v14c0 1.1.9 2 2 2h14c1.1 0 2-.9 2-2V5c0-1.1-.9-2-2-2zM9 17H7v-7h2v7zm4 0h-2V7h2v10zm4 0h-2v-4h2v4z\"/>\n",
              "    </g>\n",
              "</svg>\n",
              "  </button>\n",
              "\n",
              "<style>\n",
              "  .colab-df-quickchart {\n",
              "      --bg-color: #E8F0FE;\n",
              "      --fill-color: #1967D2;\n",
              "      --hover-bg-color: #E2EBFA;\n",
              "      --hover-fill-color: #174EA6;\n",
              "      --disabled-fill-color: #AAA;\n",
              "      --disabled-bg-color: #DDD;\n",
              "  }\n",
              "\n",
              "  [theme=dark] .colab-df-quickchart {\n",
              "      --bg-color: #3B4455;\n",
              "      --fill-color: #D2E3FC;\n",
              "      --hover-bg-color: #434B5C;\n",
              "      --hover-fill-color: #FFFFFF;\n",
              "      --disabled-bg-color: #3B4455;\n",
              "      --disabled-fill-color: #666;\n",
              "  }\n",
              "\n",
              "  .colab-df-quickchart {\n",
              "    background-color: var(--bg-color);\n",
              "    border: none;\n",
              "    border-radius: 50%;\n",
              "    cursor: pointer;\n",
              "    display: none;\n",
              "    fill: var(--fill-color);\n",
              "    height: 32px;\n",
              "    padding: 0;\n",
              "    width: 32px;\n",
              "  }\n",
              "\n",
              "  .colab-df-quickchart:hover {\n",
              "    background-color: var(--hover-bg-color);\n",
              "    box-shadow: 0 1px 2px rgba(60, 64, 67, 0.3), 0 1px 3px 1px rgba(60, 64, 67, 0.15);\n",
              "    fill: var(--button-hover-fill-color);\n",
              "  }\n",
              "\n",
              "  .colab-df-quickchart-complete:disabled,\n",
              "  .colab-df-quickchart-complete:disabled:hover {\n",
              "    background-color: var(--disabled-bg-color);\n",
              "    fill: var(--disabled-fill-color);\n",
              "    box-shadow: none;\n",
              "  }\n",
              "\n",
              "  .colab-df-spinner {\n",
              "    border: 2px solid var(--fill-color);\n",
              "    border-color: transparent;\n",
              "    border-bottom-color: var(--fill-color);\n",
              "    animation:\n",
              "      spin 1s steps(1) infinite;\n",
              "  }\n",
              "\n",
              "  @keyframes spin {\n",
              "    0% {\n",
              "      border-color: transparent;\n",
              "      border-bottom-color: var(--fill-color);\n",
              "      border-left-color: var(--fill-color);\n",
              "    }\n",
              "    20% {\n",
              "      border-color: transparent;\n",
              "      border-left-color: var(--fill-color);\n",
              "      border-top-color: var(--fill-color);\n",
              "    }\n",
              "    30% {\n",
              "      border-color: transparent;\n",
              "      border-left-color: var(--fill-color);\n",
              "      border-top-color: var(--fill-color);\n",
              "      border-right-color: var(--fill-color);\n",
              "    }\n",
              "    40% {\n",
              "      border-color: transparent;\n",
              "      border-right-color: var(--fill-color);\n",
              "      border-top-color: var(--fill-color);\n",
              "    }\n",
              "    60% {\n",
              "      border-color: transparent;\n",
              "      border-right-color: var(--fill-color);\n",
              "    }\n",
              "    80% {\n",
              "      border-color: transparent;\n",
              "      border-right-color: var(--fill-color);\n",
              "      border-bottom-color: var(--fill-color);\n",
              "    }\n",
              "    90% {\n",
              "      border-color: transparent;\n",
              "      border-bottom-color: var(--fill-color);\n",
              "    }\n",
              "  }\n",
              "</style>\n",
              "\n",
              "  <script>\n",
              "    async function quickchart(key) {\n",
              "      const quickchartButtonEl =\n",
              "        document.querySelector('#' + key + ' button');\n",
              "      quickchartButtonEl.disabled = true;  // To prevent multiple clicks.\n",
              "      quickchartButtonEl.classList.add('colab-df-spinner');\n",
              "      try {\n",
              "        const charts = await google.colab.kernel.invokeFunction(\n",
              "            'suggestCharts', [key], {});\n",
              "      } catch (error) {\n",
              "        console.error('Error during call to suggestCharts:', error);\n",
              "      }\n",
              "      quickchartButtonEl.classList.remove('colab-df-spinner');\n",
              "      quickchartButtonEl.classList.add('colab-df-quickchart-complete');\n",
              "    }\n",
              "    (() => {\n",
              "      let quickchartButtonEl =\n",
              "        document.querySelector('#df-9348c4d5-e8fe-4555-9fff-004f9bac2fdf button');\n",
              "      quickchartButtonEl.style.display =\n",
              "        google.colab.kernel.accessAllowed ? 'block' : 'none';\n",
              "    })();\n",
              "  </script>\n",
              "</div>\n",
              "    </div>\n",
              "  </div>\n"
            ]
          },
          "metadata": {},
          "execution_count": 57
        }
      ]
    },
    {
      "cell_type": "code",
      "source": [
        "possum = pd.concat([possum, possum, possum], axis = 0)"
      ],
      "metadata": {
        "id": "lsxwIY4CuGCI"
      },
      "execution_count": 58,
      "outputs": []
    },
    {
      "cell_type": "code",
      "source": [
        "possum.dropna(inplace = True)"
      ],
      "metadata": {
        "id": "Sk86uqACqcht"
      },
      "execution_count": 59,
      "outputs": []
    },
    {
      "cell_type": "code",
      "source": [
        "possum.info()"
      ],
      "metadata": {
        "colab": {
          "base_uri": "https://localhost:8080/"
        },
        "id": "u3HE2bIIZ42W",
        "outputId": "5f1d1e3d-7534-4450-9e2a-0d6bd6e1dfc1"
      },
      "execution_count": 60,
      "outputs": [
        {
          "output_type": "stream",
          "name": "stdout",
          "text": [
            "<class 'pandas.core.frame.DataFrame'>\n",
            "Int64Index: 303 entries, 0 to 103\n",
            "Data columns (total 16 columns):\n",
            " #   Column     Non-Null Count  Dtype  \n",
            "---  ------     --------------  -----  \n",
            " 0   case       303 non-null    int64  \n",
            " 1   site       303 non-null    int64  \n",
            " 2   age        303 non-null    float64\n",
            " 3   hdlngth    303 non-null    float64\n",
            " 4   skullw     303 non-null    float64\n",
            " 5   totlngth   303 non-null    float64\n",
            " 6   taill      303 non-null    float64\n",
            " 7   footlgth   303 non-null    float64\n",
            " 8   earconch   303 non-null    float64\n",
            " 9   eye        303 non-null    float64\n",
            " 10  chest      303 non-null    float64\n",
            " 11  belly      303 non-null    float64\n",
            " 12  Pop_Vic    303 non-null    uint8  \n",
            " 13  Pop_other  303 non-null    uint8  \n",
            " 14  sex_f      303 non-null    uint8  \n",
            " 15  sex_m      303 non-null    uint8  \n",
            "dtypes: float64(10), int64(2), uint8(4)\n",
            "memory usage: 32.0 KB\n"
          ]
        }
      ]
    },
    {
      "cell_type": "code",
      "source": [
        "sns.scatterplot(data = possum, x = 'hdlngth',y = 'age')"
      ],
      "metadata": {
        "colab": {
          "base_uri": "https://localhost:8080/",
          "height": 490
        },
        "id": "b-7eSO4PZ8Fl",
        "outputId": "cb6269ea-7934-437f-ac37-8f7284128871"
      },
      "execution_count": 61,
      "outputs": [
        {
          "output_type": "execute_result",
          "data": {
            "text/plain": [
              "<Axes: xlabel='hdlngth', ylabel='age'>"
            ]
          },
          "metadata": {},
          "execution_count": 61
        },
        {
          "output_type": "display_data",
          "data": {
            "text/plain": [
              "<Figure size 1200x500 with 1 Axes>"
            ],
            "image/png": "[encoded data removed]"
          },
          "metadata": {}
        }
      ]
    },
    {
      "cell_type": "code",
      "source": [
        "sns.barplot(data = possum, x = 'age', y = 'footlgth')"
      ],
      "metadata": {
        "colab": {
          "base_uri": "https://localhost:8080/",
          "height": 495
        },
        "id": "6plDxFhAaGvo",
        "outputId": "67d79283-374f-445b-b917-b0176567973d"
      },
      "execution_count": 62,
      "outputs": [
        {
          "output_type": "execute_result",
          "data": {
            "text/plain": [
              "<Axes: xlabel='age', ylabel='footlgth'>"
            ]
          },
          "metadata": {},
          "execution_count": 62
        },
        {
          "output_type": "display_data",
          "data": {
            "text/plain": [
              "<Figure size 1200x500 with 1 Axes>"
            ],
            "image/png": "[encoded data removed]"
          },
          "metadata": {}
        }
      ]
    },
    {
      "cell_type": "code",
      "source": [
        "from sklearn.preprocessing import StandardScaler\n",
        "# Selecciona las columnas que deseas normalizar\n",
        "features_to_normalize = possum.drop(columns=['age','Pop_Vic','sex_f','sex_m','Pop_other'])\n",
        "\n",
        "# Normaliza los datos seleccionados\n",
        "scaler = StandardScaler()\n",
        "normalized_features = scaler.fit_transform(features_to_normalize)\n",
        "\n",
        "# Crea un nuevo DataFrame con las características normalizadas\n",
        "normalized_df = pd.DataFrame(normalized_features, columns=features_to_normalize.columns)\n",
        "normalized_df['age']=possum['age'].values\n",
        "normalized_df['Pop_Vic']=possum['Pop_Vic'].values\n",
        "normalized_df['Pop_other']=possum['sex_f'].values\n",
        "normalized_df['sex_f']=possum['Pop_other'].values\n",
        "normalized_df['sex_m']=possum['sex_m'].values\n",
        "\n",
        "print(normalized_df.head(10))"
      ],
      "metadata": {
        "colab": {
          "base_uri": "https://localhost:8080/"
        },
        "id": "7I3trAZIeDM9",
        "outputId": "77650d62-2410-4daa-9156-96d2c2d73e2b"
      },
      "execution_count": 63,
      "outputs": [
        {
          "output_type": "stream",
          "name": "stdout",
          "text": [
            "       case      site   hdlngth    skullw  totlngth     taill  footlgth  \\\n",
            "0 -1.701469 -1.135075  0.391091  1.114121  0.414441 -0.534944  1.389467   \n",
            "1 -1.668599 -1.135075 -0.065889  0.207174  1.013103 -0.280089  0.934052   \n",
            "2 -1.635728 -1.135075  0.362530  0.984557  1.970964  0.994189  1.594404   \n",
            "3 -1.602857 -1.135075  0.134040  0.045219  1.132836  0.484478  1.753799   \n",
            "4 -1.569986 -1.135075 -0.351501 -0.213909 -0.423687 -0.534944  0.592490   \n",
            "5 -1.537116 -1.135075  0.105479 -0.699773  0.773638 -0.789800  1.093447   \n",
            "6 -1.504245 -1.135075  0.733825  0.401520  0.534173 -0.534944  0.706344   \n",
            "7 -1.471374 -1.135075  0.591019  0.207174  0.893371 -0.025233  0.979593   \n",
            "8 -1.438503 -1.135075  0.191162 -0.213909  1.013103 -0.025233  0.911281   \n",
            "9 -1.405632 -1.135075 -0.265817  0.336738  0.534173  0.229622  0.569720   \n",
            "\n",
            "   earconch       eye     chest     belly  age  Pop_Vic  Pop_other  sex_f  \\\n",
            "0  1.575748  0.141928  0.465334  1.238441  8.0        1          0      0   \n",
            "1  0.758956  0.901381  0.714004  0.133146  6.0        1          1      0   \n",
            "2  0.932215  0.426723  1.460016  0.501578  6.0        1          1      0   \n",
            "3  1.006469  0.141928  0.465334  0.501578  6.0        1          1      0   \n",
            "4  1.253981  0.046996  0.714004  0.133146  2.0        1          1      0   \n",
            "5  1.352986 -0.807389  1.460016 -0.235286  1.0        1          1      0   \n",
            "6  0.956966 -0.807389  1.460016  0.685793  2.0        1          0      0   \n",
            "7  1.427240 -0.522594  0.962675  0.501578  6.0        1          1      0   \n",
            "8  1.179728  0.426723  0.465334  0.133146  9.0        1          1      0   \n",
            "9  1.303484 -0.617526  0.216663 -0.235286  6.0        1          1      0   \n",
            "\n",
            "   sex_m  \n",
            "0      1  \n",
            "1      0  \n",
            "2      0  \n",
            "3      0  \n",
            "4      0  \n",
            "5      0  \n",
            "6      1  \n",
            "7      0  \n",
            "8      0  \n",
            "9      0  \n"
          ]
        }
      ]
    },
    {
      "cell_type": "code",
      "source": [
        "from sklearn.model_selection import train_test_split\n",
        "X_train, X_test, y_train, y_test = train_test_split(normalized_df[['hdlngth', 'skullw', 'totlngth',\n",
        "       'taill', 'footlgth', 'earconch', 'eye', 'chest', 'belly','Pop_Vic','Pop_other','sex_f','sex_m']], normalized_df['age'], train_size = 0.8, random_state = 0)"
      ],
      "metadata": {
        "id": "s87Sg9iNqv8T"
      },
      "execution_count": 64,
      "outputs": []
    },
    {
      "cell_type": "code",
      "source": [
        "X_train.shape, y_train.shape"
      ],
      "metadata": {
        "colab": {
          "base_uri": "https://localhost:8080/"
        },
        "id": "fPGBJw41lYQX",
        "outputId": "54f5c816-0034-4a38-f6af-272d2dccf1d3"
      },
      "execution_count": 69,
      "outputs": [
        {
          "output_type": "execute_result",
          "data": {
            "text/plain": [
              "((242, 13), (242,))"
            ]
          },
          "metadata": {},
          "execution_count": 69
        }
      ]
    },
    {
      "cell_type": "code",
      "source": [
        "from keras.models import Sequential\n",
        "from keras.layers import Embedding, Flatten, Dense, SimpleRNN, LSTM, Dropout\n",
        "# creamos el modelo\n",
        "model = Sequential()\n",
        "model.add(Dense(20, input_shape=(13,), kernel_initializer='normal', activation='relu'))\n",
        "model.add(Dense(1, kernel_initializer='normal'))\n",
        "# compilamos el modelo\n",
        "model.compile(loss='mean_squared_error', optimizer='adam')\n"
      ],
      "metadata": {
        "id": "LXZDJHYQaqMS"
      },
      "execution_count": 70,
      "outputs": []
    },
    {
      "cell_type": "code",
      "source": [
        "history = model.fit(X_train, y_train, epochs=10, batch_size=5, validation_data=(X_test, y_test))"
      ],
      "metadata": {
        "colab": {
          "base_uri": "https://localhost:8080/"
        },
        "id": "pekCLaLPrBtn",
        "outputId": "eeaa8d17-ba52-454d-9e16-c124fb995934"
      },
      "execution_count": 71,
      "outputs": [
        {
          "output_type": "stream",
          "name": "stdout",
          "text": [
            "Epoch 1/10\n",
            "49/49 [==============================] - 1s 6ms/step - loss: 17.6417 - val_loss: 17.9446\n",
            "Epoch 2/10\n",
            "49/49 [==============================] - 0s 3ms/step - loss: 15.9717 - val_loss: 15.5463\n",
            "Epoch 3/10\n",
            "49/49 [==============================] - 0s 3ms/step - loss: 13.0767 - val_loss: 11.9598\n",
            "Epoch 4/10\n",
            "49/49 [==============================] - 0s 3ms/step - loss: 9.3109 - val_loss: 8.0599\n",
            "Epoch 5/10\n",
            "49/49 [==============================] - 0s 3ms/step - loss: 6.0416 - val_loss: 5.5830\n",
            "Epoch 6/10\n",
            "49/49 [==============================] - 0s 3ms/step - loss: 4.1078 - val_loss: 4.5652\n",
            "Epoch 7/10\n",
            "49/49 [==============================] - 0s 3ms/step - loss: 3.3571 - val_loss: 4.2353\n",
            "Epoch 8/10\n",
            "49/49 [==============================] - 0s 3ms/step - loss: 3.0888 - val_loss: 4.1103\n",
            "Epoch 9/10\n",
            "49/49 [==============================] - 0s 3ms/step - loss: 3.0255 - val_loss: 4.0509\n",
            "Epoch 10/10\n",
            "49/49 [==============================] - 0s 3ms/step - loss: 2.9605 - val_loss: 3.9354\n"
          ]
        }
      ]
    },
    {
      "cell_type": "code",
      "source": [
        "model.evaluate(X_test,y_test)"
      ],
      "metadata": {
        "colab": {
          "base_uri": "https://localhost:8080/"
        },
        "id": "AX_pP2cXmD12",
        "outputId": "3d6b15fa-daf1-469a-a3c5-53fe24fa3681"
      },
      "execution_count": 76,
      "outputs": [
        {
          "output_type": "stream",
          "name": "stdout",
          "text": [
            "2/2 [==============================] - 0s 7ms/step - loss: 3.9354\n"
          ]
        },
        {
          "output_type": "execute_result",
          "data": {
            "text/plain": [
              "3.935368537902832"
            ]
          },
          "metadata": {},
          "execution_count": 76
        }
      ]
    },
    {
      "cell_type": "code",
      "source": [
        "print('MAE test', metrics.mean_absolute_error(y_test,model.predict(X_test)) )\n",
        "print('MAPE test', metrics.mean_absolute_percentage_error(y_test,model.predict(X_test)) )\n",
        "print('MSE test' , metrics.mean_squared_error(y_test,model.predict(X_test)))\n",
        "print('RMSE test', np.sqrt(metrics.mean_squared_error(y_test, model.predict(X_test))))\n",
        "print(\"R2: \", metrics.r2_score(y_test, model.predict(X_test)))"
      ],
      "metadata": {
        "colab": {
          "base_uri": "https://localhost:8080/"
        },
        "id": "Of2w1r0BrGp-",
        "outputId": "73a2f554-699a-4569-f2e2-2d5f8afead73"
      },
      "execution_count": 72,
      "outputs": [
        {
          "output_type": "stream",
          "name": "stdout",
          "text": [
            "2/2 [==============================] - 0s 5ms/step\n",
            "MAE test 1.5145800426358083\n",
            "2/2 [==============================] - 0s 5ms/step\n",
            "MAPE test 0.5537641582158962\n",
            "2/2 [==============================] - 0s 5ms/step\n",
            "MSE test 3.935368702623457\n",
            "2/2 [==============================] - 0s 5ms/step\n",
            "RMSE test 1.983776374146909\n",
            "2/2 [==============================] - 0s 5ms/step\n",
            "R2:  0.05097168227725979\n"
          ]
        }
      ]
    },
    {
      "cell_type": "code",
      "source": [
        "model.predict(X_test).mean()"
      ],
      "metadata": {
        "colab": {
          "base_uri": "https://localhost:8080/"
        },
        "id": "53MHIudQrXX2",
        "outputId": "ae3b48e3-b37f-4eeb-9bb1-2f647ba76315"
      },
      "execution_count": 73,
      "outputs": [
        {
          "output_type": "stream",
          "name": "stdout",
          "text": [
            "2/2 [==============================] - 0s 4ms/step\n"
          ]
        },
        {
          "output_type": "execute_result",
          "data": {
            "text/plain": [
              "3.8757715"
            ]
          },
          "metadata": {},
          "execution_count": 73
        }
      ]
    },
    {
      "cell_type": "code",
      "source": [
        "possum.age.mean()"
      ],
      "metadata": {
        "colab": {
          "base_uri": "https://localhost:8080/"
        },
        "id": "4jI6-pHKt3LO",
        "outputId": "d2bf1e6c-ae56-4d33-81e1-bf609df34252"
      },
      "execution_count": 74,
      "outputs": [
        {
          "output_type": "execute_result",
          "data": {
            "text/plain": [
              "3.8217821782178216"
            ]
          },
          "metadata": {},
          "execution_count": 74
        }
      ]
    },
    {
      "cell_type": "code",
      "source": [
        "y_test.mean()"
      ],
      "metadata": {
        "colab": {
          "base_uri": "https://localhost:8080/"
        },
        "id": "56M5iTXEt5z1",
        "outputId": "dcda0508-5985-4c45-ffc9-4535599d020b"
      },
      "execution_count": 75,
      "outputs": [
        {
          "output_type": "execute_result",
          "data": {
            "text/plain": [
              "3.8688524590163933"
            ]
          },
          "metadata": {},
          "execution_count": 75
        }
      ]
    },
    {
      "cell_type": "code",
      "source": [],
      "metadata": {
        "id": "AApAZeHEt9It"
      },
      "execution_count": null,
      "outputs": []
    }
  ]
}